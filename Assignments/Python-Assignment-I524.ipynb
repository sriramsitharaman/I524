{
 "cells": [
  {
   "cell_type": "code",
   "execution_count": 6,
   "metadata": {
    "collapsed": false
   },
   "outputs": [
    {
     "name": "stdout",
     "output_type": "stream",
     "text": [
      "Simple calculator that can do addition, subtraction, multiplication and division.\n",
      "calc >>> divide 2 3\n",
      "0.6666666666666666\n",
      "calc >>> EOF\n",
      "bye, bye\n"
     ]
    }
   ],
   "source": [
    "from __future__ import print_function, division\n",
    "import cmd\n",
    "\n",
    "\n",
    "class Calculator(cmd.Cmd):\n",
    "    prompt = 'calc >>> '\n",
    "    intro = 'Simple calculator that can do addition, subtraction, multiplication and division.'\n",
    "\n",
    "    def do_add(self, line):\n",
    "            args = line.split()\n",
    "            total = 0\n",
    "            for arg in args:\n",
    "                    total += float(arg.strip())\n",
    "            print(total)\n",
    "\n",
    "    def help_add(self):\n",
    "            print('\\n'.join([\n",
    "                    'add [number,]',\n",
    "                    'Add the arguments together and display the total.'\n",
    "            ]))\n",
    "\n",
    "    def do_subtract(self, line):\n",
    "            args = line.split()\n",
    "            total = 0\n",
    "            if len(args) > 0:\n",
    "                    total = float(args[0])\n",
    "            for arg in args[1:]:\n",
    "                    total -= float(arg.strip())\n",
    "            print(total)\n",
    "\n",
    "    def help_subtract(self):\n",
    "            print('\\n'.join([\n",
    "                    'subtract [number,]',\n",
    "                    'Subtract all following arguments from the first argument.'\n",
    "            ]))\n",
    "    def do_multiply(self, line):\n",
    "            args = line.split()\n",
    "            total = 0\n",
    "            if len(args) > 0:\n",
    "                    total = float(args[0])\n",
    "            for arg in args[1:]:\n",
    "                    total *= float(arg.strip())\n",
    "            print(total)\n",
    "\n",
    "    def help_multiply(self):\n",
    "            print('\\n'.join([\n",
    "                    'Multiply [number,]',\n",
    "                    'Multiply all following arguments from the first argument.'\n",
    "            ]))\n",
    "    def do_divide(self, line):\n",
    "            args = line.split()\n",
    "            total = 0\n",
    "            if len(args) > 0:\n",
    "                    total = float(args[0])\n",
    "            for arg in args[1:]:\n",
    "                    total /= float(arg.strip())\n",
    "            print(total)\n",
    "\n",
    "    def help_divide(self):\n",
    "            print('\\n'.join([\n",
    "                    'Multiply [number,]',\n",
    "                    'Multiply all following arguments from the first argument.'\n",
    "            ]))\n",
    "\n",
    "    def do_EOF(self, line):\n",
    "            print('bye, bye')\n",
    "            return True\n",
    "\n",
    "\n",
    "if __name__ == '__main__':\n",
    "      Calculator().cmdloop()"
   ]
  },
  {
   "cell_type": "code",
   "execution_count": null,
   "metadata": {
    "collapsed": true
   },
   "outputs": [],
   "source": []
  }
 ],
 "metadata": {
  "anaconda-cloud": {},
  "kernelspec": {
   "display_name": "Python [Root]",
   "language": "python",
   "name": "Python [Root]"
  },
  "language_info": {
   "codemirror_mode": {
    "name": "ipython",
    "version": 3
   },
   "file_extension": ".py",
   "mimetype": "text/x-python",
   "name": "python",
   "nbconvert_exporter": "python",
   "pygments_lexer": "ipython3",
   "version": "3.5.2"
  }
 },
 "nbformat": 4,
 "nbformat_minor": 0
}
